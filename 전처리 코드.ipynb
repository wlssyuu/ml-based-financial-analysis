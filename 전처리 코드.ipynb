{
 "cells": [
  {
   "cell_type": "code",
   "execution_count": 2,
   "id": "cfb8a296",
   "metadata": {},
   "outputs": [
    {
     "name": "stdout",
     "output_type": "stream",
     "text": [
      "<class 'pandas.core.frame.DataFrame'>\n",
      "RangeIndex: 347299 entries, 0 to 347298\n",
      "Data columns (total 45 columns):\n",
      " #   Column       Non-Null Count   Dtype  \n",
      "---  ------       --------------   -----  \n",
      " 0   기준년월         347299 non-null  int64  \n",
      " 1   업종_대분류       347299 non-null  object \n",
      " 2   업종_중분류       347299 non-null  object \n",
      " 3   사업장_시도       330306 non-null  object \n",
      " 4   사업장_시군구      330091 non-null  object \n",
      " 5   법인_고객등급      347299 non-null  object \n",
      " 6   전담고객여부       347299 non-null  object \n",
      " 7   요구불예금잔액      347299 non-null  float64\n",
      " 8   거치식예금잔액      347299 non-null  float64\n",
      " 9   적립식예금잔액      347299 non-null  float64\n",
      " 10  수익증권잔액       347299 non-null  float64\n",
      " 11  신탁잔액         347299 non-null  float64\n",
      " 12  퇴직연금잔액       347299 non-null  float64\n",
      " 13  여신한도금액       347299 non-null  float64\n",
      " 14  여신_운전자금대출잔액  347299 non-null  float64\n",
      " 15  여신_시설자금대출잔액  347299 non-null  float64\n",
      " 16  외환_수출실적금액    347299 non-null  float64\n",
      " 17  외환_수입실적금액    347299 non-null  float64\n",
      " 18  신용카드사용금액     347299 non-null  float64\n",
      " 19  체크카드사용금액     347299 non-null  float64\n",
      " 20  창구거래금액       347299 non-null  float64\n",
      " 21  인터넷뱅킹거래금액    347299 non-null  float64\n",
      " 22  스마트뱅킹거래금액    347299 non-null  float64\n",
      " 23  폰뱅킹거래금액      347299 non-null  float64\n",
      " 24  ATM거래금액      347299 non-null  float64\n",
      " 25  자동이체금액       347299 non-null  float64\n",
      " 26  요구불입금금액      347299 non-null  float64\n",
      " 27  요구불출금금액      347299 non-null  float64\n",
      " 28  요구불예금좌수      347299 non-null  object \n",
      " 29  거치식예금좌수      347299 non-null  object \n",
      " 30  적립식예금좌수      347299 non-null  object \n",
      " 31  수익증권좌수       347299 non-null  object \n",
      " 32  신탁좌수         347299 non-null  object \n",
      " 33  퇴직연금좌수       347299 non-null  object \n",
      " 34  여신_운전자금대출좌수  347299 non-null  object \n",
      " 35  여신_시설자금대출좌수  347299 non-null  object \n",
      " 36  신용카드개수       347299 non-null  object \n",
      " 37  외환_수출실적거래건수  347299 non-null  object \n",
      " 38  외환_수입실적거래건수  347299 non-null  object \n",
      " 39  창구거래건수       347299 non-null  object \n",
      " 40  인터넷뱅킹거래건수    347299 non-null  object \n",
      " 41  스마트뱅킹거래건수    347299 non-null  object \n",
      " 42  폰뱅킹거래건수      347299 non-null  object \n",
      " 43  ATM거래건수      347299 non-null  object \n",
      " 44  자동이체거래건수     347299 non-null  object \n",
      "dtypes: float64(21), int64(1), object(23)\n",
      "memory usage: 119.2+ MB\n"
     ]
    }
   ],
   "source": [
    "import pandas as pd\n",
    "import numpy as np\n",
    "import matplotlib.pyplot as plt\n",
    "import seaborn as sns\n",
    "import warnings\n",
    "import pandas as pd\n",
    "import numpy as np\n",
    "from sklearn.preprocessing import MinMaxScaler\n",
    "from sklearn.ensemble import RandomForestRegressor\n",
    "from sklearn.metrics import mean_squared_error, mean_absolute_error, r2_score\n",
    "\n",
    "warnings.filterwarnings('ignore')\n",
    "\n",
    "plt.rcParams['font.family'] = 'Malgun Gothic'\n",
    "plt.rcParams['axes.unicode_minus'] = False\n",
    "\n",
    "df = pd.read_csv(\"C:\\\\Users\\\\seomi\\\\바탕 화면\\\\iM Digital academy\\\\data\\\\cor_data.csv\", encoding='cp949')\n",
    "df.info()"
   ]
  },
  {
   "cell_type": "code",
   "execution_count": 3,
   "id": "793d092d",
   "metadata": {},
   "outputs": [],
   "source": [
    "# 1) 건수 매핑 딕셔너리\n",
    "mapping_count = {\n",
    "    \"0건\": 0,\n",
    "    \"1건\": 1,\n",
    "    \"2건\": 2,\n",
    "    \"2건초과 5건이하\": 4,\n",
    "    \"5건초과 10건이하\": 8,\n",
    "    \"10건초과 20건이하\": 15,\n",
    "    \"20건초과 30건이하\": 25,\n",
    "    \"30건초과 40건이하\": 35,\n",
    "    \"40건초과 50건이하\": 45,\n",
    "    \"50건 초과\": 55\n",
    "}\n",
    "\n",
    "# 2) 개수 매핑 딕셔너리\n",
    "mapping_num = {\n",
    "    \"0개\": 0,\n",
    "    \"1개\": 1,\n",
    "    \"2개\": 2,\n",
    "    \"2개초과 5개이하\": 4,\n",
    "    \"5개초과 10개이하\": 8,\n",
    "    \"10개초과 20개이하\": 15,\n",
    "    \"20개초과 30개이하\": 25,\n",
    "    \"30개초과 40개이하\": 35,\n",
    "    \"40개초과 50개이하\": 45,\n",
    "    \"50개 초과\": 55\n",
    "}\n",
    "\n",
    "# 3) 법인_고객등급 & 전담고객여부 매핑 딕셔너리\n",
    "mapping_grade = {\n",
    "    \"일반\": 0,\n",
    "    \"우수\": 0.5,\n",
    "    \"최우수\": 1\n",
    "}\n",
    "\n",
    "mapping_assign = {\n",
    "    \"N\": 0,\n",
    "    \"Y\": 1\n",
    "}\n",
    "\n",
    "# 4) 매핑할 컬럼 그룹\n",
    "count_cols = [\n",
    "    \"인터넷뱅킹거래건수\", \"스마트뱅킹거래건수\", \"폰뱅킹거래건수\", \n",
    "    \"자동이체거래건수\", \"창구거래건수\", \"ATM거래건수\",\n",
    "    \"외환_수출실적거래건수\",\"외환_수입실적거래건수\"\n",
    "]\n",
    "\n",
    "num_cols = [\n",
    "    \"요구불예금좌수\",\"거치식예금좌수\",\"적립식예금좌수\",\n",
    "    \"수익증권좌수\",\"신탁좌수\",\"퇴직연금좌수\",\n",
    "    \"여신_운전자금대출좌수\",\"여신_시설자금대출좌수\",\n",
    "    \"신용카드개수\"\n",
    "]\n",
    "\n",
    "# 5) 매핑 적용\n",
    "for col in count_cols:\n",
    "    df[col] = df[col].map(mapping_count)\n",
    "\n",
    "for col in num_cols:\n",
    "    df[col] = df[col].map(mapping_num)\n",
    "\n",
    "df['법인_고객등급'] = df['법인_고객등급'].map(mapping_grade)\n",
    "df['전담고객여부'] = df['전담고객여부'].map(mapping_assign)"
   ]
  },
  {
   "cell_type": "code",
   "execution_count": 4,
   "id": "d2a66ede",
   "metadata": {},
   "outputs": [],
   "source": [
    "# 채널다양성지수\n",
    "\n",
    "# 1) 채널별 사용 여부(0/1) 만들기: 금액>0 또는 건수>0 이면 1\n",
    "df['창구_사용']   = ((df['창구거래금액'].fillna(0)   > 0) | (df['창구거래건수'].fillna(0)   > 0)).astype(int)\n",
    "df['인터넷_사용'] = ((df['인터넷뱅킹거래금액'].fillna(0) > 0) | (df['인터넷뱅킹거래건수'].fillna(0) > 0)).astype(int)\n",
    "df['스마트_사용'] = ((df['스마트뱅킹거래금액'].fillna(0) > 0) | (df['스마트뱅킹거래건수'].fillna(0) > 0)).astype(int)\n",
    "df['폰_사용']     = ((df['폰뱅킹거래금액'].fillna(0)   > 0) | (df['폰뱅킹거래건수'].fillna(0)   > 0)).astype(int)\n",
    "df['ATM_사용']    = ((df['ATM거래금액'].fillna(0)     > 0) | (df['ATM거래건수'].fillna(0)     > 0)).astype(int)\n",
    "df['자동이체_사용'] = ((df['자동이체금액'].fillna(0)    > 0) | (df['자동이체거래건수'].fillna(0)  > 0)).astype(int)\n",
    "\n",
    "# 2) 채널다양성지수 = 사용채널수 / 전체채널수(6)\n",
    "사용채널_cols = ['창구_사용','인터넷_사용','스마트_사용','폰_사용','ATM_사용','자동이체_사용']\n",
    "df['채널다양성지수'] = df[사용채널_cols].sum(axis=1) / len(사용채널_cols)"
   ]
  },
  {
   "cell_type": "code",
   "execution_count": 5,
   "id": "4c21df08",
   "metadata": {},
   "outputs": [],
   "source": [
    "# 대출 다양성 지수\n",
    "\n",
    "# 대출다변화지수: 잔액이 0보다 크면 1, 아니면 0\n",
    "df['운전자금대출_사용'] = (df['여신_운전자금대출잔액'].fillna(0) > 0).astype(int)\n",
    "df['시설자금대출_사용'] = (df['여신_시설자금대출잔액'].fillna(0) > 0).astype(int)\n",
    "\n",
    "# 총 대출 상품 수 = 2\n",
    "df['대출다양성지수'] = (df['운전자금대출_사용'] + df['시설자금대출_사용']) / 2"
   ]
  },
  {
   "cell_type": "code",
   "execution_count": 6,
   "id": "f19bbd06",
   "metadata": {},
   "outputs": [],
   "source": [
    "# 교차판매 지수\n",
    "\n",
    "# 예금군\n",
    "df['예금_사용'] = (\n",
    "    (df[['요구불예금잔액','거치식예금잔액','적립식예금잔액']].fillna(0).sum(axis=1) > 0).astype(int)\n",
    ")\n",
    "\n",
    "# 대출군\n",
    "df['대출_사용'] = (\n",
    "    (df[['여신_운전자금대출잔액','여신_시설자금대출잔액']].fillna(0).sum(axis=1) > 0).astype(int)\n",
    ")\n",
    "\n",
    "# 기타군 (투자·신탁·외환 등)\n",
    "df['기타_사용'] = (\n",
    "    (df[['수익증권잔액','신탁잔액','퇴직연금잔액','외환_수출실적금액','외환_수입실적금액']]\n",
    "     .fillna(0).sum(axis=1) > 0).astype(int)\n",
    ")\n",
    "\n",
    "# 카드군\n",
    "df['카드_사용'] = (\n",
    "    (df[['신용카드사용금액','체크카드사용금액']].fillna(0).sum(axis=1) > 0).astype(int)\n",
    ")\n",
    "\n",
    "# ② 교차판매지수 = 사용 상품군 수 / 총 상품군 수(4)\n",
    "df['교차판매지수'] = (\n",
    "    df[['예금_사용','대출_사용','기타_사용','카드_사용']].sum(axis=1) / 4\n",
    ")"
   ]
  },
  {
   "cell_type": "code",
   "execution_count": 7,
   "id": "4e7af38c",
   "metadata": {},
   "outputs": [],
   "source": [
    "# 상품다양성지수\n",
    "#  ① 상품 좌수 사용 여부 (0/1)\n",
    "좌수_cols = [\n",
    "    '요구불예금좌수','거치식예금좌수','적립식예금좌수',\n",
    "    '수익증권좌수','신탁좌수','퇴직연금좌수'\n",
    "]\n",
    "\n",
    "for col in 좌수_cols:\n",
    "    df[f'{col}_사용'] = (df[col].fillna(0) > 0).astype(int)\n",
    "\n",
    "# ② 상품다양성지수 = (보유 상품 개수) / (총 상품 좌수 종류 수)\n",
    "사용좌수_cols = [f'{col}_사용' for col in 좌수_cols]\n",
    "df['상품다양성지수'] = df[사용좌수_cols].sum(axis=1) / len(좌수_cols)"
   ]
  },
  {
   "cell_type": "code",
   "execution_count": 8,
   "id": "4b6a8f45",
   "metadata": {},
   "outputs": [],
   "source": [
    "# 총카드사용금액\n",
    "df['총카드사용액'] = df['신용카드사용금액'] + df['체크카드사용금액']\n",
    "\n",
    "# 총예금잔액\n",
    "df['총예금잔액'] = df['요구불예금잔액'] + df['거치식예금잔액'] + df['적립식예금잔액']\n",
    "\n",
    "# 총여신잔액\n",
    "df['총여신잔액'] = df['여신_운전자금대출잔액'] + df['여신_시설자금대출잔액']\n",
    "\n",
    "# 총투자잔액\n",
    "df['총투자잔액'] = df['수익증권잔액'] + df['신탁잔액'] + df['퇴직연금잔액']\n",
    "\n",
    "# 총거래빈도\n",
    "df['총거래건수'] = df['외환_수출실적거래건수'] + df['외환_수입실적거래건수'] + df['인터넷뱅킹거래건수'] + df['스마트뱅킹거래건수'] + df['폰뱅킹거래건수'] + df['자동이체거래건수'] + df['창구거래건수'] + df['ATM거래건수']\n",
    "\n",
    "# 총거래금액\n",
    "df['총거래금액'] = (\n",
    "    df['창구거래금액'] + df['인터넷뱅킹거래금액'] + df['스마트뱅킹거래금액'] +\n",
    "    df['폰뱅킹거래금액'] + df['ATM거래금액'] + df['자동이체금액']\n",
    ")"
   ]
  },
  {
   "cell_type": "code",
   "execution_count": 9,
   "id": "985eb065",
   "metadata": {},
   "outputs": [],
   "source": [
    "# 결측치 처리\n",
    "df['사업장_시도'] = df['사업장_시도'].fillna('미정')\n",
    "df['사업장_시군구'] = df['사업장_시군구'].fillna('미정')"
   ]
  },
  {
   "cell_type": "code",
   "execution_count": 10,
   "id": "680eb095",
   "metadata": {},
   "outputs": [],
   "source": [
    "drop_cols = [\n",
    "    '창구_사용', '인터넷_사용', '스마트_사용', '폰_사용',\n",
    "    'ATM_사용', '자동이체_사용', '채널다양성지수',\n",
    "    '운전자금대출_사용', '시설자금대출_사용', '대출다양성지수',\n",
    "    '예금_사용', '대출_사용', '기타_사용', '카드_사용',\n",
    "    '요구불예금좌수_사용', '거치식예금좌수_사용', '적립식예금좌수_사용',\n",
    "    '수익증권좌수_사용', '신탁좌수_사용', '퇴직연금좌수_사용'\n",
    "]\n",
    "\n",
    "df = df.drop(columns=drop_cols)\n"
   ]
  },
  {
   "cell_type": "code",
   "execution_count": 11,
   "id": "52b9fab0",
   "metadata": {},
   "outputs": [
    {
     "data": {
      "text/plain": [
       "Index(['기준년월', '업종_대분류', '업종_중분류', '사업장_시도', '사업장_시군구', '법인_고객등급', '전담고객여부',\n",
       "       '요구불예금잔액', '거치식예금잔액', '적립식예금잔액', '수익증권잔액', '신탁잔액', '퇴직연금잔액', '여신한도금액',\n",
       "       '여신_운전자금대출잔액', '여신_시설자금대출잔액', '외환_수출실적금액', '외환_수입실적금액', '신용카드사용금액',\n",
       "       '체크카드사용금액', '창구거래금액', '인터넷뱅킹거래금액', '스마트뱅킹거래금액', '폰뱅킹거래금액', 'ATM거래금액',\n",
       "       '자동이체금액', '요구불입금금액', '요구불출금금액', '요구불예금좌수', '거치식예금좌수', '적립식예금좌수',\n",
       "       '수익증권좌수', '신탁좌수', '퇴직연금좌수', '여신_운전자금대출좌수', '여신_시설자금대출좌수', '신용카드개수',\n",
       "       '외환_수출실적거래건수', '외환_수입실적거래건수', '창구거래건수', '인터넷뱅킹거래건수', '스마트뱅킹거래건수',\n",
       "       '폰뱅킹거래건수', 'ATM거래건수', '자동이체거래건수', '교차판매지수', '상품다양성지수', '총카드사용액',\n",
       "       '총예금잔액', '총여신잔액', '총투자잔액', '총거래건수', '총거래금액'],\n",
       "      dtype='object')"
      ]
     },
     "execution_count": 11,
     "metadata": {},
     "output_type": "execute_result"
    }
   ],
   "source": [
    "df.columns"
   ]
  },
  {
   "cell_type": "code",
   "execution_count": 23,
   "id": "c02f95dd",
   "metadata": {},
   "outputs": [
    {
     "name": "stdout",
     "output_type": "stream",
     "text": [
      "   LTV_Score\n",
      "0   0.039078\n",
      "1   0.033333\n",
      "2   0.107540\n",
      "3   0.094719\n",
      "4   0.162394\n"
     ]
    }
   ],
   "source": [
    "from sklearn.preprocessing import MinMaxScaler\n",
    "import pandas as pd\n",
    "\n",
    "# 예시: df에 필요한 컬럼이 있다고 가정\n",
    "# ['총여신잔액','총예금잔액','총거래금액','총카드사용액','거래빈도','상품다양성지수','법인_고객등급']\n",
    "\n",
    "# 1) 대출·예금 규모\n",
    "df['대출예금규모'] = df['총여신잔액'] + df['총예금잔액']\n",
    "\n",
    "# 2) 카드 활용도\n",
    "df['총카드사용액'] = df['신용카드사용금액'] + df['체크카드사용금액']\n",
    "\n",
    "# 3) 정규화 대상 컬럼\n",
    "cols_to_scale = ['대출예금규모', '총거래금액', '총거래건수', '총카드사용액']\n",
    "scaler = MinMaxScaler()\n",
    "df[cols_to_scale] = scaler.fit_transform(df[cols_to_scale])\n",
    "\n",
    "# 4) LTV 점수 계산\n",
    "df['LTV_Score'] = (\n",
    "    0.35 * df['대출예금규모'] +\n",
    "    0.30 * df['총거래금액'] +\n",
    "    0.20 * df['상품다양성지수'] +\n",
    "    0.10 * df['총거래건수'] +\n",
    "    0.05 * df['총카드사용액'] +\n",
    "    0.10 * df['법인_고객등급']\n",
    ")\n",
    "\n",
    "print(df[['LTV_Score']].head())"
   ]
  },
  {
   "cell_type": "code",
   "execution_count": 25,
   "id": "190cc528",
   "metadata": {},
   "outputs": [
    {
     "name": "stdout",
     "output_type": "stream",
     "text": [
      "count    347299.000000\n",
      "mean          0.124016\n",
      "std           0.069265\n",
      "min           0.000000\n",
      "25%           0.060577\n",
      "50%           0.113567\n",
      "75%           0.168191\n",
      "max           0.607776\n",
      "Name: LTV_Score, dtype: float64\n"
     ]
    },
    {
     "data": {
      "image/png": "[encoded data removed]",
      "text/plain": [
       "<Figure size 640x480 with 1 Axes>"
      ]
     },
     "metadata": {},
     "output_type": "display_data"
    }
   ],
   "source": [
    "# 0.34 이상 상위 고객군만 필터링\n",
    "high_value = df[df['LTV_Score'] >= 0]\n",
    "\n",
    "# 분포 통계 확인\n",
    "print(high_value['LTV_Score'].describe())\n",
    "\n",
    "# 히스토그램으로 시각화 (선택)\n",
    "import matplotlib.pyplot as plt\n",
    "\n",
    "plt.hist(high_value['LTV_Score'], bins=30, color='royalblue', edgecolor='black')\n",
    "plt.xlabel('LTV Score')\n",
    "plt.ylabel('Count')\n",
    "plt.legend()\n",
    "plt.show()\n"
   ]
  },
  {
   "cell_type": "code",
   "execution_count": 13,
   "id": "c151b6c6",
   "metadata": {},
   "outputs": [
    {
     "data": {
      "text/plain": [
       "count    347299.000000\n",
       "mean          0.124016\n",
       "std           0.069265\n",
       "min           0.000000\n",
       "25%           0.060577\n",
       "50%           0.113567\n",
       "75%           0.168191\n",
       "max           0.607776\n",
       "Name: LTV_Score, dtype: float64"
      ]
     },
     "execution_count": 13,
     "metadata": {},
     "output_type": "execute_result"
    }
   ],
   "source": [
    "df['LTV_Score'].describe()"
   ]
  },
  {
   "cell_type": "code",
   "execution_count": 26,
   "id": "5df85d59",
   "metadata": {},
   "outputs": [
    {
     "name": "stdout",
     "output_type": "stream",
     "text": [
      "   LTV_Score\n",
      "0   0.136860\n",
      "1   0.051287\n",
      "2   0.251712\n",
      "3   0.281817\n",
      "4   0.255756\n"
     ]
    }
   ],
   "source": [
    "import numpy as np\n",
    "import pandas as pd\n",
    "from sklearn.preprocessing import MinMaxScaler\n",
    "\n",
    "# 1) 대출·예금 규모\n",
    "df['대출예금규모'] = df['총여신잔액'] + df['총예금잔액']\n",
    "\n",
    "# 2) 카드 활용도 (신용+체크)\n",
    "df['총카드사용액'] = df['신용카드사용금액'] + df['체크카드사용금액']\n",
    "\n",
    "# 3) 로그 변환 적용 (거래 규모 관련 변수만)\n",
    "df['대출예금규모_log'] = np.log1p(df['대출예금규모'])\n",
    "df['총거래금액_log'] = np.log1p(df['총거래금액'])\n",
    "df['총거래건수_log'] = np.log1p(df['총거래건수'])\n",
    "df['총카드사용액_log'] = np.log1p(df['총카드사용액'])\n",
    "\n",
    "# 4) 정규화 대상 컬럼 (로그 변환 후 스케일링)\n",
    "cols_to_scale = ['대출예금규모_log', '총거래금액_log', '총거래건수_log', '총카드사용액_log']\n",
    "scaler = MinMaxScaler()\n",
    "df[cols_to_scale] = scaler.fit_transform(df[cols_to_scale])\n",
    "\n",
    "# 5) LTV 점수 계산 (가중치 반영)\n",
    "df['LTV_Score'] = (\n",
    "    0.35 * df['대출예금규모_log'] +\n",
    "    0.20 * df['총거래금액_log'] +\n",
    "    0.20 * df['상품다양성지수'] +\n",
    "    0.10 * df['총거래건수_log'] +\n",
    "    0.05 * df['총카드사용액_log'] +\n",
    "    0.10 * df['법인_고객등급']\n",
    ")\n",
    "\n",
    "print(df[['LTV_Score']].head())"
   ]
  },
  {
   "cell_type": "code",
   "execution_count": 27,
   "id": "3cb998f3",
   "metadata": {},
   "outputs": [
    {
     "data": {
      "text/plain": [
       "count    347299.000000\n",
       "mean          0.265444\n",
       "std           0.103892\n",
       "min           0.000000\n",
       "25%           0.186006\n",
       "50%           0.260525\n",
       "75%           0.339923\n",
       "max           0.747583\n",
       "Name: LTV_Score, dtype: float64"
      ]
     },
     "execution_count": 27,
     "metadata": {},
     "output_type": "execute_result"
    }
   ],
   "source": [
    "df['LTV_Score'].describe()"
   ]
  },
  {
   "cell_type": "code",
   "execution_count": 29,
   "id": "aecaadd1",
   "metadata": {},
   "outputs": [
    {
     "name": "stdout",
     "output_type": "stream",
     "text": [
      "count    347299.000000\n",
      "mean          0.265444\n",
      "std           0.103892\n",
      "min           0.000000\n",
      "25%           0.186006\n",
      "50%           0.260525\n",
      "75%           0.339923\n",
      "max           0.747583\n",
      "Name: LTV_Score, dtype: float64\n"
     ]
    },
    {
     "data": {
      "image/png": "[encoded data removed]",
      "text/plain": [
       "<Figure size 640x480 with 1 Axes>"
      ]
     },
     "metadata": {},
     "output_type": "display_data"
    }
   ],
   "source": [
    "# 0.34 이상 상위 고객군만 필터링\n",
    "high_value = df[df['LTV_Score'] >= 0]\n",
    "\n",
    "# 분포 통계 확인\n",
    "print(high_value['LTV_Score'].describe())\n",
    "\n",
    "# 히스토그램으로 시각화 (선택)\n",
    "import matplotlib.pyplot as plt\n",
    "\n",
    "plt.hist(high_value['LTV_Score'], bins=30, color='royalblue', edgecolor='black')\n",
    "plt.title('LTV Score Distribution (Top 25%)')\n",
    "plt.xlabel('LTV Score')\n",
    "plt.ylabel('Count')\n",
    "plt.axvline(0.34, color='red', linestyle='--', label='0.34 Cut-off')\n",
    "plt.legend()\n",
    "plt.show()\n"
   ]
  },
  {
   "cell_type": "code",
   "execution_count": 31,
   "id": "e83396a0",
   "metadata": {},
   "outputs": [],
   "source": [
    "# 1. VIP 필터링\n",
    "vip_df = df[df['LTV_Score'] >= 0.34].copy()"
   ]
  },
  {
   "cell_type": "code",
   "execution_count": 33,
   "id": "b050b453",
   "metadata": {},
   "outputs": [
    {
     "data": {
      "text/plain": [
       "기준년월\n",
       "202212    2587\n",
       "202208    2547\n",
       "202209    2546\n",
       "202206    2541\n",
       "202205    2538\n",
       "202306    2523\n",
       "202302    2522\n",
       "202210    2522\n",
       "202303    2514\n",
       "202203    2512\n",
       "202207    2508\n",
       "202201    2503\n",
       "202305    2497\n",
       "202304    2486\n",
       "202307    2483\n",
       "202204    2476\n",
       "202202    2472\n",
       "202301    2406\n",
       "202401    2373\n",
       "202211    2350\n",
       "202402    2336\n",
       "202404    2335\n",
       "202312    2326\n",
       "202403    2325\n",
       "202310    2323\n",
       "202412    2323\n",
       "202407    2314\n",
       "202308    2311\n",
       "202405    2299\n",
       "202309    2297\n",
       "202311    2295\n",
       "202409    2286\n",
       "202406    2268\n",
       "202410    2267\n",
       "202408    2240\n",
       "202411    2222\n",
       "Name: count, dtype: int64"
      ]
     },
     "execution_count": 33,
     "metadata": {},
     "output_type": "execute_result"
    }
   ],
   "source": [
    "vip_df['기준년월'].value_counts()"
   ]
  },
  {
   "cell_type": "code",
   "execution_count": 36,
   "id": "d3a160fd",
   "metadata": {},
   "outputs": [
    {
     "name": "stdout",
     "output_type": "stream",
     "text": [
      "           업종_중분류 사업장_시도 사업장_시군구                   세그먼트ID\n",
      "0          종합 건설업  대전광역시      서구          종합 건설업_대전광역시_서구\n",
      "1          종합 건설업  인천광역시      서구          종합 건설업_인천광역시_서구\n",
      "2          종합 건설업  대구광역시      서구          종합 건설업_대구광역시_서구\n",
      "3  기타 기계 및 장비 제조업  인천광역시      서구  기타 기계 및 장비 제조업_인천광역시_서구\n",
      "4  기타 기계 및 장비 제조업  대구광역시      서구  기타 기계 및 장비 제조업_대구광역시_서구\n"
     ]
    }
   ],
   "source": [
    "group_cols = ['업종_중분류', '사업장_시도', '사업장_시군구']\n",
    "\n",
    "# 2. 그룹화 및 중복 제거\n",
    "vip_grouped = vip_df[group_cols].drop_duplicates().reset_index(drop=True)\n",
    "\n",
    "# 3. 세그먼트 ID 생성\n",
    "vip_grouped['세그먼트ID'] = (\n",
    "    vip_grouped['업종_중분류'].astype(str) + '_' +\n",
    "    vip_grouped['사업장_시도'].astype(str) + '_' +\n",
    "    vip_grouped['사업장_시군구'].astype(str)\n",
    ")\n",
    "\n",
    "# 4. 결과 확인\n",
    "print(vip_grouped.head())"
   ]
  },
  {
   "cell_type": "code",
   "execution_count": 37,
   "id": "288e911a",
   "metadata": {},
   "outputs": [
    {
     "data": {
      "text/html": [
       "<div>\n",
       "<style scoped>\n",
       "    .dataframe tbody tr th:only-of-type {\n",
       "        vertical-align: middle;\n",
       "    }\n",
       "\n",
       "    .dataframe tbody tr th {\n",
       "        vertical-align: top;\n",
       "    }\n",
       "\n",
       "    .dataframe thead th {\n",
       "        text-align: right;\n",
       "    }\n",
       "</style>\n",
       "<table border=\"1\" class=\"dataframe\">\n",
       "  <thead>\n",
       "    <tr style=\"text-align: right;\">\n",
       "      <th></th>\n",
       "      <th>업종_중분류</th>\n",
       "      <th>사업장_시도</th>\n",
       "      <th>사업장_시군구</th>\n",
       "      <th>세그먼트ID</th>\n",
       "    </tr>\n",
       "  </thead>\n",
       "  <tbody>\n",
       "    <tr>\n",
       "      <th>0</th>\n",
       "      <td>종합 건설업</td>\n",
       "      <td>대전광역시</td>\n",
       "      <td>서구</td>\n",
       "      <td>종합 건설업_대전광역시_서구</td>\n",
       "    </tr>\n",
       "    <tr>\n",
       "      <th>1</th>\n",
       "      <td>종합 건설업</td>\n",
       "      <td>인천광역시</td>\n",
       "      <td>서구</td>\n",
       "      <td>종합 건설업_인천광역시_서구</td>\n",
       "    </tr>\n",
       "    <tr>\n",
       "      <th>2</th>\n",
       "      <td>종합 건설업</td>\n",
       "      <td>대구광역시</td>\n",
       "      <td>서구</td>\n",
       "      <td>종합 건설업_대구광역시_서구</td>\n",
       "    </tr>\n",
       "    <tr>\n",
       "      <th>3</th>\n",
       "      <td>기타 기계 및 장비 제조업</td>\n",
       "      <td>인천광역시</td>\n",
       "      <td>서구</td>\n",
       "      <td>기타 기계 및 장비 제조업_인천광역시_서구</td>\n",
       "    </tr>\n",
       "    <tr>\n",
       "      <th>4</th>\n",
       "      <td>기타 기계 및 장비 제조업</td>\n",
       "      <td>대구광역시</td>\n",
       "      <td>서구</td>\n",
       "      <td>기타 기계 및 장비 제조업_대구광역시_서구</td>\n",
       "    </tr>\n",
       "    <tr>\n",
       "      <th>...</th>\n",
       "      <td>...</td>\n",
       "      <td>...</td>\n",
       "      <td>...</td>\n",
       "      <td>...</td>\n",
       "    </tr>\n",
       "    <tr>\n",
       "      <th>1155</th>\n",
       "      <td>식료품 제조업</td>\n",
       "      <td>대구광역시</td>\n",
       "      <td>군위군</td>\n",
       "      <td>식료품 제조업_대구광역시_군위군</td>\n",
       "    </tr>\n",
       "    <tr>\n",
       "      <th>1156</th>\n",
       "      <td>화학물질 및 화학제품 제조업; 의약품 제외</td>\n",
       "      <td>울산광역시</td>\n",
       "      <td>남구</td>\n",
       "      <td>화학물질 및 화학제품 제조업; 의약품 제외_울산광역시_남구</td>\n",
       "    </tr>\n",
       "    <tr>\n",
       "      <th>1157</th>\n",
       "      <td>숙박업</td>\n",
       "      <td>부산광역시</td>\n",
       "      <td>사상구</td>\n",
       "      <td>숙박업_부산광역시_사상구</td>\n",
       "    </tr>\n",
       "    <tr>\n",
       "      <th>1158</th>\n",
       "      <td>기타 제품 제조업</td>\n",
       "      <td>경상남도</td>\n",
       "      <td>양산시</td>\n",
       "      <td>기타 제품 제조업_경상남도_양산시</td>\n",
       "    </tr>\n",
       "    <tr>\n",
       "      <th>1159</th>\n",
       "      <td>폐기물 수집, 운반, 처리 및 원료 재생업</td>\n",
       "      <td>대구광역시</td>\n",
       "      <td>남구</td>\n",
       "      <td>폐기물 수집, 운반, 처리 및 원료 재생업_대구광역시_남구</td>\n",
       "    </tr>\n",
       "  </tbody>\n",
       "</table>\n",
       "<p>1160 rows × 4 columns</p>\n",
       "</div>"
      ],
      "text/plain": [
       "                       업종_중분류 사업장_시도 사업장_시군구                            세그먼트ID\n",
       "0                      종합 건설업  대전광역시      서구                   종합 건설업_대전광역시_서구\n",
       "1                      종합 건설업  인천광역시      서구                   종합 건설업_인천광역시_서구\n",
       "2                      종합 건설업  대구광역시      서구                   종합 건설업_대구광역시_서구\n",
       "3              기타 기계 및 장비 제조업  인천광역시      서구           기타 기계 및 장비 제조업_인천광역시_서구\n",
       "4              기타 기계 및 장비 제조업  대구광역시      서구           기타 기계 및 장비 제조업_대구광역시_서구\n",
       "...                       ...    ...     ...                               ...\n",
       "1155                  식료품 제조업  대구광역시     군위군                 식료품 제조업_대구광역시_군위군\n",
       "1156  화학물질 및 화학제품 제조업; 의약품 제외  울산광역시      남구  화학물질 및 화학제품 제조업; 의약품 제외_울산광역시_남구\n",
       "1157                      숙박업  부산광역시     사상구                     숙박업_부산광역시_사상구\n",
       "1158                기타 제품 제조업   경상남도     양산시                기타 제품 제조업_경상남도_양산시\n",
       "1159  폐기물 수집, 운반, 처리 및 원료 재생업  대구광역시      남구  폐기물 수집, 운반, 처리 및 원료 재생업_대구광역시_남구\n",
       "\n",
       "[1160 rows x 4 columns]"
      ]
     },
     "execution_count": 37,
     "metadata": {},
     "output_type": "execute_result"
    }
   ],
   "source": [
    "vip_grouped"
   ]
  }
 ],
 "metadata": {
  "kernelspec": {
   "display_name": "Python 3",
   "language": "python",
   "name": "python3"
  },
  "language_info": {
   "codemirror_mode": {
    "name": "ipython",
    "version": 3
   },
   "file_extension": ".py",
   "mimetype": "text/x-python",
   "name": "python",
   "nbconvert_exporter": "python",
   "pygments_lexer": "ipython3",
   "version": "3.10.10"
  }
 },
 "nbformat": 4,
 "nbformat_minor": 5
}
