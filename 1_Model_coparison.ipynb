{
 "cells": [
  {
   "cell_type": "code",
   "execution_count": 16,
   "id": "0c42c37f",
   "metadata": {},
   "outputs": [],
   "source": [
    "import pandas as pd\n",
    "import numpy as np\n",
    "import warnings\n",
    "import matplotlib.pyplot as plt\n",
    "from sklearn.preprocessing import MinMaxScaler\n",
    "from sklearn.metrics import roc_auc_score, precision_recall_fscore_support\n",
    "from sklearn.model_selection import TimeSeriesSplit\n",
    "from xgboost import XGBClassifier\n",
    "from lightgbm import LGBMClassifier\n",
    "from sklearn.ensemble import RandomForestClassifier\n",
    "from sklearn.linear_model import LogisticRegression\n",
    "\n",
    "warnings.filterwarnings('ignore')\n",
    "plt.rcParams['font.family'] = 'Malgun Gothic'\n",
    "plt.rcParams['axes.unicode_minus'] = False"
   ]
  },
  {
   "cell_type": "code",
   "execution_count": 17,
   "id": "d8687997",
   "metadata": {},
   "outputs": [],
   "source": [
    "# ---------------------------------\n",
    "# ① 데이터 로드\n",
    "# ---------------------------------\n",
    "vip_df = pd.read_csv(\"C:\\\\Users\\\\seomi\\\\바탕 화면\\\\iM Digital academy\\\\data\\\\vip_final.csv\")\n",
    "\n",
    "base_features = [\n",
    "    '총거래금액', \n",
    "    '총거래건수', \n",
    "    '총예금잔액', \n",
    "    '총여신잔액', \n",
    "    '대출비중', \n",
    "    '상품다양성지수', \n",
    "    '총카드사용액', \n",
    "    '외환_수출실적금액', \n",
    "    '외환_수입실적금액',\n",
    "    '외부_여신시설자금', \n",
    "    '외부_여신운전자금'\n",
    "]\n",
    "static_features = ['법인_고객등급', '전담고객여부']"
   ]
  },
  {
   "cell_type": "code",
   "execution_count": 18,
   "id": "1e532eaa",
   "metadata": {},
   "outputs": [],
   "source": [
    "# ---------------------------------\n",
    "# ② 기준년월 → 분기 변환\n",
    "# ---------------------------------\n",
    "vip_df['기준년월'] = pd.to_datetime(vip_df['기준년월'], format='%Y%m')\n",
    "vip_df['기준분기'] = vip_df['기준년월'].dt.to_period('Q')"
   ]
  },
  {
   "cell_type": "code",
   "execution_count": 19,
   "id": "0c423280",
   "metadata": {},
   "outputs": [],
   "source": [
    "# ---------------------------------\n",
    "# ③ 분기 단위 집계\n",
    "# ---------------------------------\n",
    "agg_df = vip_df.groupby(['세그먼트ID', '기준분기']).agg({\n",
    "    '총거래금액':'mean',\n",
    "    '총거래건수':'mean',\n",
    "    '총예금잔액':'mean',\n",
    "    '총여신잔액':'mean',\n",
    "    '대출비중':'mean',\n",
    "    '상품다양성지수':'mean',\n",
    "    '총카드사용액':'mean',\n",
    "    '외환_수출실적금액':'mean',\n",
    "    '외환_수입실적금액':'mean',\n",
    "    '외부_여신시설자금':'mean',\n",
    "    '외부_여신운전자금':'mean',\n",
    "    '법인_고객등급':'first',\n",
    "    '전담고객여부':'first',\n",
    "    '이탈여부':'max'  # 분기 내 한 번이라도 이탈하면 1\n",
    "}).reset_index()"
   ]
  },
  {
   "cell_type": "code",
   "execution_count": 20,
   "id": "fde6ec8c",
   "metadata": {},
   "outputs": [],
   "source": [
    "# ---------------------------------\n",
    "# ④ 타겟(다음 분기 이탈 여부) 생성\n",
    "# ---------------------------------\n",
    "agg_df = agg_df.sort_values(['세그먼트ID', '기준분기'])\n",
    "agg_df['target_next_quarter'] = agg_df.groupby('세그먼트ID')['이탈여부'].shift(-1)\n",
    "agg_df = agg_df.dropna(subset=['target_next_quarter'])"
   ]
  },
  {
   "cell_type": "code",
   "execution_count": 21,
   "id": "731623d7",
   "metadata": {},
   "outputs": [],
   "source": [
    "# ---------------------------------\n",
    "# ⑤ Feature, Target 분리\n",
    "# ---------------------------------\n",
    "X = agg_df[base_features + static_features]\n",
    "y = agg_df['target_next_quarter']"
   ]
  },
  {
   "cell_type": "code",
   "execution_count": 22,
   "id": "c311169c",
   "metadata": {},
   "outputs": [],
   "source": [
    "# ---------------------------------\n",
    "# ⑥ 모델 정의\n",
    "# ---------------------------------\n",
    "models = {\n",
    "    \"XGBoost\": XGBClassifier(\n",
    "        n_estimators=300,\n",
    "        learning_rate=0.05,\n",
    "        max_depth=4,\n",
    "        subsample=0.8,\n",
    "        colsample_bytree=0.8,\n",
    "        random_state=42,\n",
    "        eval_metric='auc'\n",
    "    ),\n",
    "    \"LightGBM\": LGBMClassifier(\n",
    "        n_estimators=300,\n",
    "        learning_rate=0.05,\n",
    "        random_state=42,\n",
    "        verbose=-1\n",
    "    ),\n",
    "    \"RandomForest\": RandomForestClassifier(\n",
    "        n_estimators=300,\n",
    "        max_depth=8,\n",
    "        random_state=42\n",
    "    ),\n",
    "    \"LogisticRegression\": LogisticRegression(\n",
    "        max_iter=1000,\n",
    "        solver='lbfgs'\n",
    "    )\n",
    "}"
   ]
  },
  {
   "cell_type": "code",
   "execution_count": 23,
   "id": "44216a0b",
   "metadata": {},
   "outputs": [],
   "source": [
    "# ---------------------------------\n",
    "# ⑦ 시계열 교차검증\n",
    "# ---------------------------------\n",
    "# 36개월(12분기)이므로 3~4개 Fold가 적절\n",
    "tscv = TimeSeriesSplit(n_splits=4)\n",
    "\n",
    "results = []\n",
    "for name, model in models.items():\n",
    "    auc_scores = []\n",
    "    f1_scores = []\n",
    "\n",
    "    for train_idx, test_idx in tscv.split(X):\n",
    "        X_train, X_test = X.iloc[train_idx], X.iloc[test_idx]\n",
    "        y_train, y_test = y.iloc[train_idx], y.iloc[test_idx]\n",
    "\n",
    "        model.fit(X_train, y_train)\n",
    "        y_pred = model.predict(X_test)\n",
    "        y_pred_proba = model.predict_proba(X_test)[:, 1]\n",
    "\n",
    "        auc = roc_auc_score(y_test, y_pred_proba)\n",
    "        f1 = precision_recall_fscore_support(y_test, y_pred, average='binary')[2]\n",
    "        auc_scores.append(auc)\n",
    "        f1_scores.append(f1)\n",
    "\n",
    "    results.append({\n",
    "        'Model': name,\n",
    "        'Mean AUC': np.mean(auc_scores),\n",
    "        'Mean F1': np.mean(f1_scores)\n",
    "    })"
   ]
  },
  {
   "cell_type": "code",
   "execution_count": 24,
   "id": "98eaa4dd",
   "metadata": {},
   "outputs": [
    {
     "name": "stdout",
     "output_type": "stream",
     "text": [
      "\n",
      "=== 모델 성능 비교 결과 ===\n",
      "                Model  Mean AUC   Mean F1\n",
      "0             XGBoost  0.884119  0.710588\n",
      "2        RandomForest  0.878732  0.701242\n",
      "1            LightGBM  0.874386  0.691893\n",
      "3  LogisticRegression  0.752979  0.360530\n"
     ]
    }
   ],
   "source": [
    "# ---------------------------------\n",
    "# ⑧ 결과 출력\n",
    "# ---------------------------------\n",
    "results_df = pd.DataFrame(results).sort_values(by='Mean AUC', ascending=False)\n",
    "print(\"\\n=== 모델 성능 비교 결과 ===\")\n",
    "print(results_df)"
   ]
  },
  {
   "cell_type": "code",
   "execution_count": 25,
   "id": "5ae14dbd",
   "metadata": {},
   "outputs": [
    {
     "data": {
      "image/png": "[encoded data removed]",
      "text/plain": [
       "<Figure size 800x400 with 1 Axes>"
      ]
     },
     "metadata": {},
     "output_type": "display_data"
    },
    {
     "data": {
      "image/png": "[encoded data removed]",
      "text/plain": [
       "<Figure size 800x400 with 1 Axes>"
      ]
     },
     "metadata": {},
     "output_type": "display_data"
    }
   ],
   "source": [
    "import matplotlib.pyplot as plt\n",
    "\n",
    "plt.figure(figsize=(8,4))\n",
    "plt.barh(results_df['Model'], results_df['Mean AUC'], color='royalblue')\n",
    "plt.xlabel('Mean AUC')\n",
    "plt.title('Model Comparison - AUC')\n",
    "plt.gca().invert_yaxis()\n",
    "plt.show()\n",
    "\n",
    "plt.figure(figsize=(8,4))\n",
    "plt.barh(results_df['Model'], results_df['Mean F1'], color='darkorange')\n",
    "plt.xlabel('Mean F1 Score')\n",
    "plt.title('Model Comparison - F1')\n",
    "plt.gca().invert_yaxis()\n",
    "plt.show()"
   ]
  }
 ],
 "metadata": {
  "kernelspec": {
   "display_name": "Python 3",
   "language": "python",
   "name": "python3"
  },
  "language_info": {
   "codemirror_mode": {
    "name": "ipython",
    "version": 3
   },
   "file_extension": ".py",
   "mimetype": "text/x-python",
   "name": "python",
   "nbconvert_exporter": "python",
   "pygments_lexer": "ipython3",
   "version": "3.10.10"
  }
 },
 "nbformat": 4,
 "nbformat_minor": 5
}
