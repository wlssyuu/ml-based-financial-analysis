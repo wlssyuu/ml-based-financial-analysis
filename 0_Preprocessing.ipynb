{
 "cells": [
  {
   "cell_type": "markdown",
   "id": "6b395efc",
   "metadata": {},
   "source": [
    "### 데이터 불러오기"
   ]
  },
  {
   "cell_type": "code",
   "execution_count": 80,
   "id": "561b90f6",
   "metadata": {},
   "outputs": [
    {
     "name": "stdout",
     "output_type": "stream",
     "text": [
      "<class 'pandas.core.frame.DataFrame'>\n",
      "RangeIndex: 323414 entries, 0 to 323413\n",
      "Data columns (total 47 columns):\n",
      " #   Column       Non-Null Count   Dtype  \n",
      "---  ------       --------------   -----  \n",
      " 0   기준년월         323414 non-null  int64  \n",
      " 1   업종_대분류       323414 non-null  object \n",
      " 2   업종_중분류       323414 non-null  object \n",
      " 3   사업장_시도       323414 non-null  object \n",
      " 4   사업장_시군구      323414 non-null  object \n",
      " 5   법인_고객등급      323414 non-null  object \n",
      " 6   전담고객여부       323414 non-null  object \n",
      " 7   요구불예금잔액      323414 non-null  float64\n",
      " 8   거치식예금잔액      323414 non-null  float64\n",
      " 9   적립식예금잔액      323414 non-null  float64\n",
      " 10  수익증권잔액       323414 non-null  float64\n",
      " 11  신탁잔액         323414 non-null  float64\n",
      " 12  퇴직연금잔액       323414 non-null  float64\n",
      " 13  여신한도금액       323414 non-null  float64\n",
      " 14  여신_운전자금대출잔액  323414 non-null  float64\n",
      " 15  여신_시설자금대출잔액  323414 non-null  float64\n",
      " 16  외환_수출실적금액    323414 non-null  float64\n",
      " 17  외환_수입실적금액    323414 non-null  float64\n",
      " 18  신용카드사용금액     323414 non-null  float64\n",
      " 19  체크카드사용금액     323414 non-null  float64\n",
      " 20  창구거래금액       323414 non-null  float64\n",
      " 21  인터넷뱅킹거래금액    323414 non-null  float64\n",
      " 22  스마트뱅킹거래금액    323414 non-null  float64\n",
      " 23  폰뱅킹거래금액      323414 non-null  float64\n",
      " 24  ATM거래금액      323414 non-null  float64\n",
      " 25  자동이체금액       323414 non-null  float64\n",
      " 26  요구불입금금액      323414 non-null  float64\n",
      " 27  요구불출금금액      323414 non-null  float64\n",
      " 28  요구불예금좌수      323414 non-null  object \n",
      " 29  거치식예금좌수      323414 non-null  object \n",
      " 30  적립식예금좌수      323414 non-null  object \n",
      " 31  수익증권좌수       323414 non-null  object \n",
      " 32  신탁좌수         323414 non-null  object \n",
      " 33  퇴직연금좌수       323414 non-null  object \n",
      " 34  여신_운전자금대출좌수  323414 non-null  object \n",
      " 35  여신_시설자금대출좌수  323414 non-null  object \n",
      " 36  신용카드개수       323414 non-null  object \n",
      " 37  외환_수출실적거래건수  323414 non-null  object \n",
      " 38  외환_수입실적거래건수  323414 non-null  object \n",
      " 39  창구거래건수       323414 non-null  object \n",
      " 40  인터넷뱅킹거래건수    323414 non-null  object \n",
      " 41  스마트뱅킹거래건수    323414 non-null  object \n",
      " 42  폰뱅킹거래건수      323414 non-null  object \n",
      " 43  ATM거래건수      323414 non-null  object \n",
      " 44  자동이체거래건수     323414 non-null  object \n",
      " 45  외부_여신시설자금    323414 non-null  float64\n",
      " 46  외부_여신운전자금    323414 non-null  float64\n",
      "dtypes: float64(23), int64(1), object(23)\n",
      "memory usage: 116.0+ MB\n"
     ]
    }
   ],
   "source": [
    "import pandas as pd\n",
    "import numpy as np\n",
    "import matplotlib.pyplot as plt\n",
    "import seaborn as sns\n",
    "import warnings\n",
    "import pandas as pd\n",
    "import numpy as np\n",
    "from sklearn.preprocessing import MinMaxScaler\n",
    "from sklearn.ensemble import RandomForestRegressor\n",
    "from sklearn.metrics import mean_squared_error, mean_absolute_error, r2_score\n",
    "\n",
    "warnings.filterwarnings('ignore')\n",
    "\n",
    "plt.rcParams['font.family'] = 'Malgun Gothic'\n",
    "plt.rcParams['axes.unicode_minus'] = False\n",
    "\n",
    "basic_df = pd.read_csv(\"C:\\\\Users\\\\seomi\\\\바탕 화면\\\\iM Digital academy\\\\data\\\\cor_data.csv\", encoding='cp949')\n",
    "ex_df = pd.read_csv(\"C:\\\\Users\\\\seomi\\\\바탕 화면\\\\iM Digital academy\\\\data\\\\ext_df_corrected.csv\")\n",
    "ex_df.head()\n",
    "\n",
    "df_merged = basic_df.merge(\n",
    "    ex_df,\n",
    "    how='left',\n",
    "    on=['기준년월', '사업장_시도', '업종_대분류']\n",
    ")\n",
    "\n",
    "df_merged = df_merged.dropna(subset=['사업장_시도', '사업장_시군구', '외부_여신시설자금'])\n",
    "df_merged.to_csv('C:\\\\Users\\\\seomi\\\\바탕 화면\\\\iM Digital academy\\\\data\\\\data_merged.csv', index=False)\n",
    "\n",
    "df = pd.read_csv(\"C:\\\\Users\\\\seomi\\\\바탕 화면\\\\iM Digital academy\\\\data\\\\data_merged.csv\")\n",
    "df.info()"
   ]
  },
  {
   "cell_type": "markdown",
   "id": "20fdfa83",
   "metadata": {},
   "source": [
    "### 범주 -> 수치 매핑"
   ]
  },
  {
   "cell_type": "code",
   "execution_count": 81,
   "id": "4621a403",
   "metadata": {},
   "outputs": [],
   "source": [
    "# 범주 -> 수치 매핑\n",
    "\n",
    "# 1) 건수 매핑 딕셔너리\n",
    "mapping_count = {\n",
    "    \"0건\": 0,\n",
    "    \"1건\": 1,\n",
    "    \"2건\": 2,\n",
    "    \"2건초과 5건이하\": 4,\n",
    "    \"5건초과 10건이하\": 8,\n",
    "    \"10건초과 20건이하\": 15,\n",
    "    \"20건초과 30건이하\": 25,\n",
    "    \"30건초과 40건이하\": 35,\n",
    "    \"40건초과 50건이하\": 45,\n",
    "    \"50건 초과\": 55\n",
    "}\n",
    "\n",
    "# 2) 개수 매핑 딕셔너리\n",
    "mapping_num = {\n",
    "    \"0개\": 0,\n",
    "    \"1개\": 1,\n",
    "    \"2개\": 2,\n",
    "    \"2개초과 5개이하\": 4,\n",
    "    \"5개초과 10개이하\": 8,\n",
    "    \"10개초과 20개이하\": 15,\n",
    "    \"20개초과 30개이하\": 25,\n",
    "    \"30개초과 40개이하\": 35,\n",
    "    \"40개초과 50개이하\": 45,\n",
    "    \"50개 초과\": 55\n",
    "}\n",
    "\n",
    "# 3) 법인_고객등급 & 전담고객여부 매핑 딕셔너리\n",
    "mapping_grade = {\n",
    "    \"일반\": 0,\n",
    "    \"우수\": 0.5,\n",
    "    \"최우수\": 1\n",
    "}\n",
    "\n",
    "mapping_assign = {\n",
    "    \"N\": 0,\n",
    "    \"Y\": 1\n",
    "}\n",
    "\n",
    "# 4) 매핑할 컬럼 그룹\n",
    "count_cols = [\n",
    "    \"인터넷뱅킹거래건수\", \"스마트뱅킹거래건수\", \"폰뱅킹거래건수\", \n",
    "    \"자동이체거래건수\", \"창구거래건수\", \"ATM거래건수\",\n",
    "    \"외환_수출실적거래건수\",\"외환_수입실적거래건수\"\n",
    "]\n",
    "\n",
    "num_cols = [\n",
    "    \"요구불예금좌수\",\"거치식예금좌수\",\"적립식예금좌수\",\n",
    "    \"수익증권좌수\",\"신탁좌수\",\"퇴직연금좌수\",\n",
    "    \"여신_운전자금대출좌수\",\"여신_시설자금대출좌수\",\n",
    "    \"신용카드개수\"\n",
    "]\n",
    "\n",
    "# 5) 매핑 적용\n",
    "for col in count_cols:\n",
    "    df[col] = df[col].map(mapping_count)\n",
    "\n",
    "for col in num_cols:\n",
    "    df[col] = df[col].map(mapping_num)\n",
    "\n",
    "df['법인_고객등급'] = df['법인_고객등급'].map(mapping_grade)\n",
    "df['전담고객여부'] = df['전담고객여부'].map(mapping_assign)"
   ]
  },
  {
   "cell_type": "markdown",
   "id": "341a9686",
   "metadata": {},
   "source": [
    "### 파생변수 생성 및 결측치 처리"
   ]
  },
  {
   "cell_type": "code",
   "execution_count": 82,
   "id": "0a205c2f",
   "metadata": {},
   "outputs": [],
   "source": [
    "# 파생변수\n",
    "\n",
    "# 채널다양성지수\n",
    "# 1) 채널별 사용 여부(0/1) 만들기: 금액>0 또는 건수>0 이면 1\n",
    "df['창구_사용']   = ((df['창구거래금액'].fillna(0)   > 0) | (df['창구거래건수'].fillna(0)   > 0)).astype(int)\n",
    "df['인터넷_사용'] = ((df['인터넷뱅킹거래금액'].fillna(0) > 0) | (df['인터넷뱅킹거래건수'].fillna(0) > 0)).astype(int)\n",
    "df['스마트_사용'] = ((df['스마트뱅킹거래금액'].fillna(0) > 0) | (df['스마트뱅킹거래건수'].fillna(0) > 0)).astype(int)\n",
    "df['폰_사용']     = ((df['폰뱅킹거래금액'].fillna(0)   > 0) | (df['폰뱅킹거래건수'].fillna(0)   > 0)).astype(int)\n",
    "df['ATM_사용']    = ((df['ATM거래금액'].fillna(0)     > 0) | (df['ATM거래건수'].fillna(0)     > 0)).astype(int)\n",
    "df['자동이체_사용'] = ((df['자동이체금액'].fillna(0)    > 0) | (df['자동이체거래건수'].fillna(0)  > 0)).astype(int)\n",
    "\n",
    "# 2) 채널다양성지수 = 사용채널수 / 전체채널수(6)\n",
    "사용채널_cols = ['창구_사용','인터넷_사용','스마트_사용','폰_사용','ATM_사용','자동이체_사용']\n",
    "df['채널다양성지수'] = df[사용채널_cols].sum(axis=1) / len(사용채널_cols)\n",
    "\n",
    "# 대출 다양성 지수\n",
    "# 대출다변화지수: 잔액이 0보다 크면 1, 아니면 0\n",
    "df['운전자금대출_사용'] = (df['여신_운전자금대출잔액'].fillna(0) > 0).astype(int)\n",
    "df['시설자금대출_사용'] = (df['여신_시설자금대출잔액'].fillna(0) > 0).astype(int)\n",
    "\n",
    "# 총 대출 상품 수 = 2\n",
    "df['대출다양성지수'] = (df['운전자금대출_사용'] + df['시설자금대출_사용']) / 2\n",
    "\n",
    "# 교차판매 지수\n",
    "# 예금군\n",
    "df['예금_사용'] = (\n",
    "    (df[['요구불예금잔액','거치식예금잔액','적립식예금잔액']].fillna(0).sum(axis=1) > 0).astype(int)\n",
    ")\n",
    "\n",
    "# 대출군\n",
    "df['대출_사용'] = (\n",
    "    (df[['여신_운전자금대출잔액','여신_시설자금대출잔액']].fillna(0).sum(axis=1) > 0).astype(int)\n",
    ")\n",
    "\n",
    "# 기타군 (투자·신탁·외환 등)\n",
    "df['기타_사용'] = (\n",
    "    (df[['수익증권잔액','신탁잔액','퇴직연금잔액','외환_수출실적금액','외환_수입실적금액']]\n",
    "     .fillna(0).sum(axis=1) > 0).astype(int)\n",
    ")\n",
    "\n",
    "# 카드군\n",
    "df['카드_사용'] = (\n",
    "    (df[['신용카드사용금액','체크카드사용금액']].fillna(0).sum(axis=1) > 0).astype(int)\n",
    ")\n",
    "\n",
    "# ② 교차판매지수 = 사용 상품군 수 / 총 상품군 수(4)\n",
    "df['교차판매지수'] = (\n",
    "    df[['예금_사용','대출_사용','기타_사용','카드_사용']].sum(axis=1) / 4\n",
    ")\n",
    "\n",
    "# 상품다양성지수\n",
    "#  ① 상품 좌수 사용 여부 (0/1)\n",
    "좌수_cols = [\n",
    "    '요구불예금좌수','거치식예금좌수','적립식예금좌수',\n",
    "    '수익증권좌수','신탁좌수','퇴직연금좌수'\n",
    "]\n",
    "\n",
    "for col in 좌수_cols:\n",
    "    df[f'{col}_사용'] = (df[col].fillna(0) > 0).astype(int)\n",
    "\n",
    "# ② 상품다양성지수 = (보유 상품 개수) / (총 상품 좌수 종류 수)\n",
    "사용좌수_cols = [f'{col}_사용' for col in 좌수_cols]\n",
    "df['상품다양성지수'] = df[사용좌수_cols].sum(axis=1) / len(좌수_cols)\n",
    "\n",
    "# 총카드사용금액\n",
    "df['총카드사용액'] = df['신용카드사용금액'] + df['체크카드사용금액']\n",
    "\n",
    "# 총예금잔액\n",
    "df['총예금잔액'] = df['요구불예금잔액'] + df['거치식예금잔액'] + df['적립식예금잔액']\n",
    "\n",
    "# 총여신잔액\n",
    "df['총여신잔액'] = df['여신_운전자금대출잔액'] + df['여신_시설자금대출잔액']\n",
    "\n",
    "# 총투자잔액\n",
    "df['총투자잔액'] = df['수익증권잔액'] + df['신탁잔액'] + df['퇴직연금잔액']\n",
    "\n",
    "# 총거래빈도\n",
    "df['총거래건수'] = df['외환_수출실적거래건수'] + df['외환_수입실적거래건수'] + df['인터넷뱅킹거래건수'] + df['스마트뱅킹거래건수'] + df['폰뱅킹거래건수'] + df['자동이체거래건수'] + df['창구거래건수'] + df['ATM거래건수']\n",
    "\n",
    "# 총거래금액\n",
    "df['총거래금액'] = (\n",
    "    df['창구거래금액'] + df['인터넷뱅킹거래금액'] + df['스마트뱅킹거래금액'] +\n",
    "    df['폰뱅킹거래금액'] + df['ATM거래금액'] + df['자동이체금액']\n",
    ")\n",
    "\n",
    "# 총대출예금잔액\n",
    "df['대출예금잔액'] = df['총여신잔액'] + df['총예금잔액']\n",
    "\n",
    "# 컬럼드랍\n",
    "drop_cols = [\n",
    "    '창구_사용', '인터넷_사용', '스마트_사용', '폰_사용',\n",
    "    'ATM_사용', '자동이체_사용', '채널다양성지수',\n",
    "    '운전자금대출_사용', '시설자금대출_사용', '대출다양성지수',\n",
    "    '예금_사용', '대출_사용', '기타_사용', '카드_사용',\n",
    "    '요구불예금좌수_사용', '거치식예금좌수_사용', '적립식예금좌수_사용',\n",
    "    '수익증권좌수_사용', '신탁좌수_사용', '퇴직연금좌수_사용'\n",
    "]\n",
    "\n",
    "df = df.drop(columns=drop_cols)"
   ]
  },
  {
   "cell_type": "markdown",
   "id": "b06c260a",
   "metadata": {},
   "source": [
    "### LTV + VIP 추출"
   ]
  },
  {
   "cell_type": "code",
   "execution_count": 83,
   "id": "3cc04a95",
   "metadata": {},
   "outputs": [
    {
     "name": "stdout",
     "output_type": "stream",
     "text": [
      "   LTV_Score\n",
      "0   0.211981\n",
      "1   0.051287\n",
      "2   0.370521\n",
      "3   0.390007\n",
      "4   0.349519\n"
     ]
    }
   ],
   "source": [
    "# 1) 로그 변환 적용 (거래 규모 관련 변수만)\n",
    "df['대출예금잔액_log'] = np.log1p(df['대출예금잔액'])\n",
    "df['총거래금액_log'] = np.log1p(df['총거래금액'])\n",
    "df['총거래건수_log'] = np.log1p(df['총거래건수'])\n",
    "df['총카드사용액_log'] = np.log1p(df['총카드사용액'])\n",
    "\n",
    "# 2) 정규화 대상 컬럼 (로그 변환 후 스케일링)\n",
    "cols_to_scale = ['대출예금잔액_log', '총거래금액_log', '총거래건수_log', '총카드사용액_log']\n",
    "scaler = MinMaxScaler()\n",
    "df[cols_to_scale] = scaler.fit_transform(df[cols_to_scale])\n",
    "\n",
    "# 3) LTV 점수 계산 (가중치 반영)\n",
    "df['LTV_Score'] = (\n",
    "    0.35 * df['대출예금잔액_log'] +\n",
    "    0.20 * df['총거래금액_log'] +\n",
    "    0.20 * df['상품다양성지수'] +\n",
    "    0.10 * df['총거래건수_log'] +\n",
    "    0.05 * df['총카드사용액_log'] +\n",
    "    0.10 * df['법인_고객등급']\n",
    ")\n",
    "\n",
    "print(df[['LTV_Score']].head())"
   ]
  },
  {
   "cell_type": "markdown",
   "id": "1403e517",
   "metadata": {},
   "source": [
    "LTV 분포"
   ]
  },
  {
   "cell_type": "code",
   "execution_count": 84,
   "id": "0e9eeb87",
   "metadata": {},
   "outputs": [
    {
     "name": "stdout",
     "output_type": "stream",
     "text": [
      "count    323414.000000\n",
      "mean          0.356648\n",
      "std           0.128242\n",
      "min           0.000000\n",
      "25%           0.262124\n",
      "50%           0.356977\n",
      "75%           0.450040\n",
      "max           0.795871\n",
      "Name: LTV_Score, dtype: float64\n",
      "LTV_Score 상위 33% 기준값: 0.4200\n"
     ]
    },
    {
     "data": {
      "image/png": "[encoded data removed]",
      "text/plain": [
       "<Figure size 800x500 with 1 Axes>"
      ]
     },
     "metadata": {},
     "output_type": "display_data"
    }
   ],
   "source": [
    "high_value = df[df['LTV_Score'] >= 0]\n",
    "\n",
    "# 분포 통계 확인\n",
    "print(high_value['LTV_Score'].describe())\n",
    "valid_mask = df['LTV_Score'].notna()\n",
    "cutoff = df.loc[valid_mask, 'LTV_Score'].quantile(0.67)\n",
    "high_risk = df.loc[valid_mask & (df['LTV_Score'] >= cutoff)]\n",
    "print(f\"LTV_Score 상위 33% 기준값: {cutoff:.4f}\")\n",
    "\n",
    "# 히스토그램으로 시각화 (선택)\n",
    "import matplotlib.pyplot as plt\n",
    "plt.figure(figsize=(8,5))\n",
    "plt.hist(high_value['LTV_Score'], bins=30, color='royalblue', edgecolor='black', alpha=0.8)\n",
    "plt.axvline(cutoff, color='red', linestyle='--', label='Top 33% Cut-off')\n",
    "plt.title('LTV Distribution')\n",
    "plt.xlabel('LTV')\n",
    "plt.ylabel('Count')\n",
    "plt.legend()\n",
    "plt.show()"
   ]
  },
  {
   "cell_type": "markdown",
   "id": "9e2165e8",
   "metadata": {},
   "source": [
    "상위 33% 기준으로 필터링"
   ]
  },
  {
   "cell_type": "code",
   "execution_count": 85,
   "id": "6a0df64f",
   "metadata": {},
   "outputs": [
    {
     "name": "stdout",
     "output_type": "stream",
     "text": [
      "상위 33% 기준값: 0.4200377658885544\n"
     ]
    }
   ],
   "source": [
    "# 상위 33% 기준값 구하기 (67 분위수)\n",
    "threshold = df['LTV_Score'].quantile(0.67)\n",
    "print(\"상위 33% 기준값:\", threshold)\n",
    "\n",
    "# 기준값 이상만 필터링\n",
    "vip_df = df[df['LTV_Score'] >= threshold].copy()\n",
    "\n",
    "drop_cols = [\n",
    "    '대출예금잔액_log',\t'총거래금액_log', '총거래건수_log',\t'총카드사용액_log'\n",
    "]\n",
    "\n",
    "vip_df = vip_df.drop(columns=drop_cols)"
   ]
  },
  {
   "cell_type": "code",
   "execution_count": 86,
   "id": "01a0f8a8",
   "metadata": {},
   "outputs": [
    {
     "data": {
      "image/png": "[encoded data removed]",
      "text/plain": [
       "<Figure size 800x600 with 1 Axes>"
      ]
     },
     "metadata": {},
     "output_type": "display_data"
    }
   ],
   "source": [
    "import pandas as pd\n",
    "import matplotlib.pyplot as plt\n",
    "import numpy as np\n",
    "\n",
    "# LTV 기준으로 내림차순 정렬\n",
    "df_sorted = df.sort_values('LTV_Score', ascending=False).reset_index(drop=True)\n",
    "\n",
    "# 누적 거래금액 비율 계산\n",
    "df_sorted['누적비율'] = df_sorted['총거래금액'].cumsum() / df_sorted['총거래금액'].sum() * 100\n",
    "df_sorted['고객비율'] = np.arange(1, len(df_sorted) + 1) / len(df_sorted) * 100\n",
    "\n",
    "# 그래프\n",
    "plt.figure(figsize=(8,6))\n",
    "plt.plot(df_sorted['고객비율'], df_sorted['누적비율'], color='steelblue', linewidth=2)\n",
    "plt.axvline(x=33, color='red', linestyle='--', linewidth=1.5)\n",
    "plt.axhline(y=93.2, color='gray', linestyle='--', linewidth=1)\n",
    "plt.scatter(33, 93.2, color='red', s=60, zorder=5)\n",
    "\n",
    "plt.text(34, 90, '상위 33% 고객 → 거래금액 93.2%', color='red', fontsize=11)\n",
    "plt.title('VIP 고객군 집중도 (LTV 기반)', fontsize=14, fontweight='bold')\n",
    "plt.xlabel('고객 비율(%)')\n",
    "plt.ylabel('누적 거래금액 비율(%)')\n",
    "plt.grid(alpha=0.3)\n",
    "plt.show()\n"
   ]
  },
  {
   "cell_type": "markdown",
   "id": "1c443f23",
   "metadata": {},
   "source": [
    "세그먼트 별로 나누기"
   ]
  },
  {
   "cell_type": "code",
   "execution_count": 87,
   "id": "0cb66077",
   "metadata": {},
   "outputs": [
    {
     "name": "stdout",
     "output_type": "stream",
     "text": [
      "     기준년월                    세그먼트ID  요구불예금잔액  거치식예금잔액  적립식예금잔액  수익증권잔액  \\\n",
      "0  202201  건설업_전문직별 공사업_경기도_안산시 단원구     1.50      0.0      0.0     0.0   \n",
      "1  202201     건설업_전문직별 공사업_경상남도_김해시     0.00      0.0     10.0     0.0   \n",
      "2  202201     건설업_전문직별 공사업_경상북도_경산시  4522.80   2672.0    125.6     0.0   \n",
      "3  202201     건설업_전문직별 공사업_경상북도_경주시   877.58      0.0      0.0     0.0   \n",
      "4  202201     건설업_전문직별 공사업_경상북도_고령군     0.45      0.0      0.0     0.0   \n",
      "\n",
      "      신탁잔액   퇴직연금잔액  여신한도금액  여신_운전자금대출잔액  ...  스마트뱅킹거래건수  폰뱅킹거래건수  ATM거래건수  \\\n",
      "0     0.00     0.00     0.0        280.0  ...       0.00      0.0     0.00   \n",
      "1   130.00   130.00   360.0        310.0  ...       0.00      0.0     0.00   \n",
      "2  2503.80  1440.80  9480.0      13320.0  ...       0.24      0.0     1.16   \n",
      "3   124.02   121.62  1510.0       3770.0  ...       0.00      0.0     0.50   \n",
      "4     0.00     0.00     0.0          0.0  ...      15.00      0.0     0.00   \n",
      "\n",
      "    자동이체거래건수  외부_여신시설자금  외부_여신운전자금    교차판매지수   상품다양성지수      총거래건수  LTV_Score  \n",
      "0  15.000000  1651800.0  3137600.0  0.750000  0.166667  70.000000   0.437504  \n",
      "1  15.000000   252300.0  1057500.0  1.000000  0.666667  70.000000   0.547923  \n",
      "2  18.360000   172600.0   678400.0  0.880000  0.446667  72.000000   0.493648  \n",
      "3  24.333333   172600.0   678400.0  0.833333  0.333333  68.833333   0.466271  \n",
      "4   4.000000   172600.0   678400.0  0.750000  0.166667  34.000000   0.424851  \n",
      "\n",
      "[5 rows x 54 columns]\n",
      "['기준년월', '세그먼트ID', '요구불예금잔액', '거치식예금잔액', '적립식예금잔액', '수익증권잔액', '신탁잔액', '퇴직연금잔액', '여신한도금액', '여신_운전자금대출잔액', '여신_시설자금대출잔액', '외환_수출실적금액', '외환_수입실적금액', '신용카드사용금액', '체크카드사용금액', '창구거래금액', '인터넷뱅킹거래금액', '스마트뱅킹거래금액', '폰뱅킹거래금액', 'ATM거래금액', '자동이체금액', '요구불입금금액', '요구불출금금액', '총카드사용액', '총예금잔액', '총여신잔액', '총투자잔액', '총거래금액', '대출예금잔액', '법인_고객등급', '전담고객여부', '요구불예금좌수', '거치식예금좌수', '적립식예금좌수', '수익증권좌수', '신탁좌수', '퇴직연금좌수', '여신_운전자금대출좌수', '여신_시설자금대출좌수', '신용카드개수', '외환_수출실적거래건수', '외환_수입실적거래건수', '창구거래건수', '인터넷뱅킹거래건수', '스마트뱅킹거래건수', '폰뱅킹거래건수', 'ATM거래건수', '자동이체거래건수', '외부_여신시설자금', '외부_여신운전자금', '교차판매지수', '상품다양성지수', '총거래건수', 'LTV_Score']\n"
     ]
    }
   ],
   "source": [
    "# 1. 그룹 기준 컬럼\n",
    "group_cols = ['기준년월','업종_대분류', '업종_중분류', '사업장_시도', '사업장_시군구']\n",
    "\n",
    "# 2. 잔액형 변수(합계로 집계할 컬럼)\n",
    "sum_cols = [\n",
    "    '요구불예금잔액', '거치식예금잔액', '적립식예금잔액', '수익증권잔액', '신탁잔액', '퇴직연금잔액',\n",
    "    '여신한도금액', '여신_운전자금대출잔액', '여신_시설자금대출잔액',\n",
    "    '외환_수출실적금액', '외환_수입실적금액',\n",
    "    '신용카드사용금액', '체크카드사용금액', '창구거래금액', '인터넷뱅킹거래금액', '스마트뱅킹거래금액',\n",
    "    '폰뱅킹거래금액', 'ATM거래금액', '자동이체금액', '요구불입금금액', '요구불출금금액',\n",
    "    '총카드사용액', '총예금잔액', '총여신잔액', '총투자잔액', '총거래금액', '대출예금잔액'\n",
    "]\n",
    "\n",
    "# 3. 평균으로 집계할 컬럼\n",
    "mean_cols = [col for col in vip_df.columns if col not in group_cols + sum_cols]\n",
    "\n",
    "# 4. 집계 로직 정의\n",
    "agg_dict = {col: 'sum' for col in sum_cols}\n",
    "agg_dict.update({col: 'mean' for col in mean_cols})\n",
    "\n",
    "# 5. 그룹화 및 집계\n",
    "vip_grouped = vip_df.groupby(group_cols).agg(agg_dict).reset_index()\n",
    "\n",
    "# 6. 세그먼트 ID 생성\n",
    "vip_grouped['세그먼트ID'] = (\n",
    "    vip_grouped['업종_대분류'].astype(str) + '_' +\n",
    "    vip_grouped['업종_중분류'].astype(str) + '_' +\n",
    "    vip_grouped['사업장_시도'].astype(str) + '_' +\n",
    "    vip_grouped['사업장_시군구'].astype(str)\n",
    ")\n",
    "\n",
    "# 7. 불필요한 컬럼 드롭\n",
    "vip_grouped = vip_grouped.drop(columns=['업종_대분류', '업종_중분류', '사업장_시도', '사업장_시군구'])\n",
    "\n",
    "# 8. 컬럼 순서 재정렬: 기준년월 → 세그먼트ID → 나머지\n",
    "cols = ['기준년월', '세그먼트ID'] + [col for col in vip_grouped.columns if col not in ['기준년월', '세그먼트ID']]\n",
    "vip_grouped = vip_grouped[cols]\n",
    "\n",
    "# 9. 결과 확인\n",
    "print(vip_grouped.head())\n",
    "print(vip_grouped.columns.tolist())"
   ]
  },
  {
   "cell_type": "markdown",
   "id": "47412986",
   "metadata": {},
   "source": [
    "36개월 모두 있는 것만 필터링"
   ]
  },
  {
   "cell_type": "code",
   "execution_count": 88,
   "id": "538626b2",
   "metadata": {},
   "outputs": [],
   "source": [
    "# 1. 세그먼트별 개수 집계\n",
    "seg_counts = vip_grouped['세그먼트ID'].value_counts()\n",
    "\n",
    "# 2. 36개인 세그먼트만 추출\n",
    "seg_36 = seg_counts[seg_counts == 36].index\n",
    "\n",
    "# 3. 원본에서 해당 세그먼트만 필터링\n",
    "vip_final = vip_grouped[vip_grouped['세그먼트ID'].isin(seg_36)].copy()"
   ]
  },
  {
   "cell_type": "markdown",
   "id": "5c3275cf",
   "metadata": {},
   "source": [
    "### 리스크 스코어 추출 및 이탈여부 생성"
   ]
  },
  {
   "cell_type": "code",
   "execution_count": 89,
   "id": "5bedb80f",
   "metadata": {},
   "outputs": [
    {
     "name": "stdout",
     "output_type": "stream",
     "text": [
      "리스크스코어 상위 20% 기준값: 0.7453\n",
      "고위험 세그먼트 개수: 3043\n"
     ]
    },
    {
     "data": {
      "image/png": "[encoded data removed]",
      "text/plain": [
       "<Figure size 800x500 with 1 Axes>"
      ]
     },
     "metadata": {},
     "output_type": "display_data"
    }
   ],
   "source": [
    "import pandas as pd\n",
    "import numpy as np\n",
    "from sklearn.preprocessing import MinMaxScaler\n",
    "import matplotlib.pyplot as plt\n",
    "eps = 1e-6\n",
    "# ------------------------------------------\n",
    "# 1) 기준월 정렬 (세그먼트별 시계열 정렬)\n",
    "# ------------------------------------------\n",
    "# vip_final['기준년월'] = pd.to_datetime(vip_final['기준년월'])  # 필요시 주석 해제\n",
    "vip_final = vip_final.sort_values(['세그먼트ID', '기준년월'])\n",
    "g = vip_final.groupby(['세그먼트ID'])\n",
    "# ------------------------------------------\n",
    "# 2) 세그먼트별 최근3개월 합 & '바로 이전' 3개월 합 (겹침: shift=1)\n",
    "#    min_periods=3 → 정확히 3개월 누적이 있는 행만 유효\n",
    "# ------------------------------------------\n",
    "recent3_sum = g['총거래금액'].transform(lambda x: x.rolling(window=3, min_periods=3).sum())\n",
    "prev3_sum   = g['총거래금액'].transform(lambda x: x.rolling(window=3, min_periods=3).sum().shift(1))\n",
    "# ------------------------------------------\n",
    "# 3) 거래감소율 = (최근3개월합 - 바로이전3개월합) / (바로이전3개월합)\n",
    "#    (겹치는 창이므로 첫 3개월만 NaN이 정상)\n",
    "# ------------------------------------------\n",
    "vip_final['거래감소율'] = (prev3_sum - recent3_sum) / (prev3_sum + eps)\n",
    "vip_final['거래감소율'] = vip_final['거래감소율'].clip(-1, 1)  # 과도한 변동 안정화\n",
    "# ------------------------------------------\n",
    "# 4) 나머지 변수 계산\n",
    "# ------------------------------------------\n",
    "vip_final['대출비중'] = vip_final['총여신잔액'] / (vip_final['총여신잔액'] + vip_final['총예금잔액'] + eps)\n",
    "# 정규화 (0~1)\n",
    "cols_to_scale = ['LTV_Score', '대출비중', '거래감소율', '상품다양성지수']\n",
    "scaler = MinMaxScaler()\n",
    "vip_final[[c + '_norm' for c in cols_to_scale]] = scaler.fit_transform(vip_final[cols_to_scale])\n",
    "# ------------------------------------------\n",
    "# 5) 리스크스코어 계산 (기존 식)\n",
    "# ------------------------------------------\n",
    "vip_final['리스크스코어'] = (\n",
    "    0.35 * (1 - vip_final['LTV_Score_norm']) +\n",
    "    0.25 * vip_final['대출비중_norm'] +\n",
    "    0.30 * vip_final['거래감소율_norm'] +\n",
    "    0.10 * (1 - vip_final['상품다양성지수_norm'])\n",
    ")\n",
    "# ------------------------------------------\n",
    "# 6) 상위 20% 그룹\n",
    "# ------------------------------------------\n",
    "valid_mask = vip_final['리스크스코어'].notna()\n",
    "cutoff = vip_final.loc[valid_mask, '리스크스코어'].quantile(.8)\n",
    "high_risk = vip_final.loc[valid_mask & (vip_final['리스크스코어'] >= cutoff)]\n",
    "print(f\"리스크스코어 상위 20% 기준값: {cutoff:.4f}\")\n",
    "print(f\"고위험 세그먼트 개수: {len(high_risk)}\")\n",
    "# ------------------------------------------\n",
    "# 7) 시각화\n",
    "# ------------------------------------------\n",
    "plt.figure(figsize=(8,5))\n",
    "plt.hist(vip_final.loc[valid_mask, '리스크스코어'], bins=30, edgecolor='black', color='crimson', alpha=0.8)\n",
    "plt.axvline(cutoff, color='blue', linestyle='--', label='Top 20% Cut-off')\n",
    "plt.title('Risk Score Distribution')\n",
    "plt.xlabel('Risk Score')\n",
    "plt.ylabel('Count')\n",
    "plt.legend()\n",
    "plt.show()"
   ]
  },
  {
   "cell_type": "code",
   "execution_count": 90,
   "id": "572797cc",
   "metadata": {},
   "outputs": [],
   "source": [
    "threshold = vip_final['리스크스코어'].quantile(0.8)\n",
    "vip_final['이탈여부'] = (vip_final['리스크스코어'] >= threshold).astype(int)"
   ]
  },
  {
   "cell_type": "code",
   "execution_count": 91,
   "id": "c70ba941",
   "metadata": {},
   "outputs": [],
   "source": [
    "vip_final.to_csv(\"C:\\\\Users\\\\seomi\\\\바탕 화면\\\\iM Digital academy\\\\data\\\\vip_final.csv\", index=False)"
   ]
  }
 ],
 "metadata": {
  "kernelspec": {
   "display_name": "Python 3",
   "language": "python",
   "name": "python3"
  },
  "language_info": {
   "codemirror_mode": {
    "name": "ipython",
    "version": 3
   },
   "file_extension": ".py",
   "mimetype": "text/x-python",
   "name": "python",
   "nbconvert_exporter": "python",
   "pygments_lexer": "ipython3",
   "version": "3.10.10"
  }
 },
 "nbformat": 4,
 "nbformat_minor": 5
}
